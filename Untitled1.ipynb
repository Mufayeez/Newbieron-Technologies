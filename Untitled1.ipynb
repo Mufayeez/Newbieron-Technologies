{
 "cells": [
  {
   "cell_type": "code",
   "execution_count": 16,
   "id": "e298e612",
   "metadata": {},
   "outputs": [],
   "source": [
    "import requests\n",
    "from bs4 import BeautifulSoup\n",
    "import csv\n",
    "import time"
   ]
  },
  {
   "cell_type": "code",
   "execution_count": 20,
   "id": "2a3dbfa2",
   "metadata": {},
   "outputs": [],
   "source": [
    "def scrape_vegetable_fruit_store(state):\n",
    "    base_url = f'https://www.justdial.com/{state}/Vegetable-Wholesalers'\n",
    "\n",
    "    headers = {\n",
    "        'User-Agent': 'Mozilla/5.0 (Windows NT 10.0; Win64; x64) AppleWebKit/537.36 (KHTML, like Gecko) Chrome/109.0.0.0 Safari/537.36'\n",
    "    }\n",
    "    \n",
    "    response = requests.get(base_url, headers=headers)\n",
    "    \n",
    "    if response.status_code == 200:\n",
    "        soup = BeautifulSoup(response.content, 'html.parser')\n",
    "        stores = soup.find_all('li', {'class': 'cntanr'})\n",
    "    \n",
    "        data = []\n",
    "        for store in stores:\n",
    "            name = store.find('span', {'class': 'lng_cont_name'}).text.strip()\n",
    "            address = store.find('span', {'class': 'cont_fl_addr'}).text.strip()\n",
    "            phone = store.find('span', {'class': 'mobilesv'}).text.strip()\n",
    "            website = store.find('a', {'class': 'web_icon'}).get('href') if store.find('a', {'class': 'web_icon'}) else 'Not Availabe'\n",
    "            data.append([state, name, address, phone, website])\n",
    "        return data\n",
    "    else:\n",
    "        print(f\"Failed to fetch data for {state}. Please check the state spelling or try again later.\")\n",
    "        return []\n",
    "    \n",
    "def save_data_to_csv(data):\n",
    "    header = ['State', 'Name', 'Address', 'Phone', 'Website']\n",
    "    with open('vegetable_fruit_stores_data.csv', mode='w', newline='', encoding='utf-8') as file:\n",
    "        writer = csv.writer(file)\n",
    "        writer.writerow(header)\n",
    "        writer.writerows(data)\n",
    "            "
   ]
  },
  {
   "cell_type": "code",
   "execution_count": 22,
   "id": "fa01f1f7",
   "metadata": {},
   "outputs": [
    {
     "name": "stdout",
     "output_type": "stream",
     "text": [
      "Data saved to 'vegetable_fruit_stores_data.csv'.\n"
     ]
    }
   ],
   "source": [
    "if __name__ == '__main__':\n",
    "    states = ['Andra Pradesh', 'Arunachal Pradesh', 'Assam', 'Bihar', 'Chhattisgarh', 'Goa', 'Gujrat', 'Haryana', \n",
    "              'Himachal Pradesh', 'Jammu and Kashmir', 'Jharkhand', 'Karnataka', 'Kerela', 'Madhya Pradesh', 'Maharashtra', \n",
    "              'Manipur', 'Meghalaya', 'Mizoram', 'Nagaland', 'Odisha', 'Punjab', 'Ragasthan', 'Sikkim', 'Tamil Nadu', 'Telengana',\n",
    "              'Tripura', 'Uttar Pradesh', 'Uttarakhand', 'West Bengal']\n",
    "\n",
    "    all_data = []\n",
    "    \n",
    "    for state in states:\n",
    "        state_data = scrape_vegetable_fruit_store(state)\n",
    "        all_data.extend(state_data)\n",
    "        time.sleep(2)\n",
    "    \n",
    "    save_data_to_csv(all_data)\n",
    "    print(\"Data saved to 'vegetable_fruit_stores_data.csv'.\")"
   ]
  },
  {
   "cell_type": "code",
   "execution_count": 25,
   "id": "c36ce78b",
   "metadata": {},
   "outputs": [],
   "source": [
    "import pandas as pd"
   ]
  },
  {
   "cell_type": "code",
   "execution_count": 26,
   "id": "0b7a878e",
   "metadata": {},
   "outputs": [],
   "source": [
    "df = pd.read_csv('C:/Users/dell/Documents/Python/vegetable_fruit_stores_data.csv')"
   ]
  },
  {
   "cell_type": "code",
   "execution_count": 27,
   "id": "f1ea8a92",
   "metadata": {},
   "outputs": [
    {
     "data": {
      "text/html": [
       "<div>\n",
       "<style scoped>\n",
       "    .dataframe tbody tr th:only-of-type {\n",
       "        vertical-align: middle;\n",
       "    }\n",
       "\n",
       "    .dataframe tbody tr th {\n",
       "        vertical-align: top;\n",
       "    }\n",
       "\n",
       "    .dataframe thead th {\n",
       "        text-align: right;\n",
       "    }\n",
       "</style>\n",
       "<table border=\"1\" class=\"dataframe\">\n",
       "  <thead>\n",
       "    <tr style=\"text-align: right;\">\n",
       "      <th></th>\n",
       "      <th>State</th>\n",
       "      <th>Name</th>\n",
       "      <th>Address</th>\n",
       "      <th>Phone</th>\n",
       "      <th>Website</th>\n",
       "    </tr>\n",
       "  </thead>\n",
       "  <tbody>\n",
       "  </tbody>\n",
       "</table>\n",
       "</div>"
      ],
      "text/plain": [
       "Empty DataFrame\n",
       "Columns: [State, Name, Address, Phone, Website]\n",
       "Index: []"
      ]
     },
     "execution_count": 27,
     "metadata": {},
     "output_type": "execute_result"
    }
   ],
   "source": [
    "df"
   ]
  }
 ],
 "metadata": {
  "kernelspec": {
   "display_name": "Python 3 (ipykernel)",
   "language": "python",
   "name": "python3"
  },
  "language_info": {
   "codemirror_mode": {
    "name": "ipython",
    "version": 3
   },
   "file_extension": ".py",
   "mimetype": "text/x-python",
   "name": "python",
   "nbconvert_exporter": "python",
   "pygments_lexer": "ipython3",
   "version": "3.9.12"
  }
 },
 "nbformat": 4,
 "nbformat_minor": 5
}
