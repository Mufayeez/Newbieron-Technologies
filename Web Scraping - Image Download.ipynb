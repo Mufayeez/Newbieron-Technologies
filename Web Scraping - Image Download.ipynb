{
 "cells": [
  {
   "cell_type": "code",
   "execution_count": 2,
   "id": "c3d0149d",
   "metadata": {},
   "outputs": [],
   "source": [
    "import os\n",
    "import requests\n",
    "from bs4 import BeautifulSoup\n",
    "from urllib.parse import quote"
   ]
  },
  {
   "cell_type": "code",
   "execution_count": 10,
   "id": "de6b0ec8",
   "metadata": {},
   "outputs": [
    {
     "name": "stdout",
     "output_type": "stream",
     "text": [
      "Enter the person's name: msd\n",
      "Error downloading image 1\n",
      "Downloaded image 1/50\n",
      "Downloaded image 2/50\n",
      "Downloaded image 3/50\n",
      "Downloaded image 4/50\n",
      "Downloaded image 5/50\n",
      "Downloaded image 6/50\n",
      "Downloaded image 7/50\n",
      "Downloaded image 8/50\n",
      "Downloaded image 9/50\n",
      "Downloaded image 10/50\n",
      "Downloaded image 11/50\n",
      "Downloaded image 12/50\n",
      "Downloaded image 13/50\n",
      "Downloaded image 14/50\n",
      "Downloaded image 15/50\n",
      "Downloaded image 16/50\n",
      "Downloaded image 17/50\n",
      "Downloaded image 18/50\n",
      "Downloaded image 19/50\n",
      "Downloaded image 20/50\n",
      "Download completed.\n"
     ]
    }
   ],
   "source": [
    "def download_images(query, num_images):\n",
    "    # Create a directory to store the downloaded images\n",
    "    if not os.path.exists(query):\n",
    "        os.makedirs(query)\n",
    "\n",
    "    # URL encode the query to use in the Google Images search URL\n",
    "    query_encoded = quote(query)\n",
    "\n",
    "    # Generate the Google Images search URL\n",
    "    url = f\"https://www.google.com/search?q={query_encoded}&tbm=isch\"\n",
    "\n",
    "    # Send a GET request to the Google Images search URL\n",
    "    response = requests.get(url, headers={'User-Agent': 'Mozilla/5.0'})\n",
    "\n",
    "    # Parse the HTML content using BeautifulSoup\n",
    "    soup = BeautifulSoup(response.content, 'html.parser')\n",
    "\n",
    "    # Find all the image elements in the HTML\n",
    "    image_elements = soup.find_all('img')\n",
    "\n",
    "    count = 0\n",
    "    for element in image_elements:\n",
    "        if count >= num_images:\n",
    "            break\n",
    "\n",
    "        # Extract the image URL from the 'src' attribute\n",
    "        image_url = element['src']\n",
    "\n",
    "        try:\n",
    "            # Send a GET request to download the image\n",
    "            response = requests.get(image_url, stream=True)\n",
    "\n",
    "            # Generate a unique filename for each image\n",
    "            filename = f\"{query}/{query}_{count}.jpg\"\n",
    "\n",
    "            # Save the image to the local directory\n",
    "            with open(filename, 'wb') as file:\n",
    "                for chunk in response.iter_content(1024):\n",
    "                    file.write(chunk)\n",
    "\n",
    "            print(f\"Downloaded image {count + 1}/{num_images}\")\n",
    "            count += 1\n",
    "\n",
    "        except:\n",
    "            print(f\"Error downloading image {count + 1}\")\n",
    "\n",
    "    print(\"Download completed.\")\n",
    "\n",
    "# Example usage\n",
    "name = input(\"Enter the person's name: \")\n",
    "\n",
    "download_images(name, 50)"
   ]
  }
 ],
 "metadata": {
  "kernelspec": {
   "display_name": "Python 3 (ipykernel)",
   "language": "python",
   "name": "python3"
  },
  "language_info": {
   "codemirror_mode": {
    "name": "ipython",
    "version": 3
   },
   "file_extension": ".py",
   "mimetype": "text/x-python",
   "name": "python",
   "nbconvert_exporter": "python",
   "pygments_lexer": "ipython3",
   "version": "3.9.12"
  }
 },
 "nbformat": 4,
 "nbformat_minor": 5
}
